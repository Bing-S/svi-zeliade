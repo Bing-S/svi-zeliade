{
 "metadata": {
  "name": "",
  "signature": "sha256:50160709fdc3cb06e5a0802cde3ddf7b29c33ac11404455c9da311c7d29b8f8c"
 },
 "nbformat": 3,
 "nbformat_minor": 0,
 "worksheets": [
  {
   "cells": [
    {
     "cell_type": "code",
     "collapsed": false,
     "input": [],
     "language": "python",
     "metadata": {},
     "outputs": []
    }
   ],
   "metadata": {}
  }
 ]
}