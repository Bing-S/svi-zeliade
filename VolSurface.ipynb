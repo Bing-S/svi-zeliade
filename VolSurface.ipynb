{
 "metadata": {
  "name": "",
  "signature": "sha256:aeaf8d8c1234d89c28059f9fd60ba13303c41250a2196f4d047b8769c187e095"
 },
 "nbformat": 3,
 "nbformat_minor": 0,
 "worksheets": [
  {
   "cells": [
    {
     "cell_type": "markdown",
     "metadata": {},
     "source": [
      "With much reference to [this](https://github.com/bramjochems/MyExcelLib/blob/master/BJExcelLib/Finance.SVI.fs)"
     ]
    },
    {
     "cell_type": "code",
     "collapsed": false,
     "input": [
      "%pylab inline\n",
      "import numpy as np\n",
      "import pandas as pd\n",
      "today = pd.to_datetime('2015-05-08')\n",
      "futures = pd.read_csv('FTSE100-Futures-20150508.csv', dtype='U,U,f8,f8,f8,f8,f8,f8,i8,i8,i8,i8,i8', sep='\\t')\n",
      "options = pd.read_csv('FTSE100-Options-20150508.csv', dtype='U,U,i8,U,f8,f8,f8,f8,f8,f8,f8,i8,i8,i8,i8', sep='\\t')"
     ],
     "language": "python",
     "metadata": {},
     "outputs": [
      {
       "output_type": "stream",
       "stream": "stdout",
       "text": [
        "Populating the interactive namespace from numpy and matplotlib\n"
       ]
      }
     ],
     "prompt_number": 1
    },
    {
     "cell_type": "markdown",
     "metadata": {},
     "source": [
      "[Options](https://www.theice.com/products/38716770/FTSE-100-Index-Option) and [futures](https://www.theice.com/products/38716764/FTSE-100-Index-Future) expire on third friday of the month."
     ]
    },
    {
     "cell_type": "code",
     "collapsed": false,
     "input": [
      "options['MONTH'] = pd.DatetimeIndex(pd.to_datetime(options['MONTH'], format='%b%y')) +  pd.datetools.WeekOfMonth(week=3,weekday=4)\n",
      "futures['CONTRACTMONTH'] = pd.DatetimeIndex(pd.to_datetime(futures['CONTRACTMONTH'], format='%y-%b')) +  pd.datetools.WeekOfMonth(week=3,weekday=4)"
     ],
     "language": "python",
     "metadata": {},
     "outputs": [],
     "prompt_number": 2
    },
    {
     "cell_type": "code",
     "collapsed": false,
     "input": [
      "futures"
     ],
     "language": "python",
     "metadata": {},
     "outputs": [
      {
       "html": [
        "<div style=\"max-height:1000px;max-width:1500px;overflow:auto;\">\n",
        "<table border=\"1\" class=\"dataframe\">\n",
        "  <thead>\n",
        "    <tr style=\"text-align: right;\">\n",
        "      <th></th>\n",
        "      <th>COMMODITYNAME</th>\n",
        "      <th>CONTRACTMONTH</th>\n",
        "      <th>OPEN</th>\n",
        "      <th>HIGH</th>\n",
        "      <th>LOW</th>\n",
        "      <th>CLOSE</th>\n",
        "      <th>PRICE</th>\n",
        "      <th>CHANGE</th>\n",
        "      <th>TOTALVOLUME</th>\n",
        "      <th>EFP</th>\n",
        "      <th>EFS</th>\n",
        "      <th>BLOCKVOLUME</th>\n",
        "      <th>SPREADVOLUME</th>\n",
        "    </tr>\n",
        "  </thead>\n",
        "  <tbody>\n",
        "    <tr>\n",
        "      <th>0</th>\n",
        "      <td> Z</td>\n",
        "      <td>2015-06-26</td>\n",
        "      <td> 6940.0</td>\n",
        "      <td> 7033.0</td>\n",
        "      <td> 6938.0</td>\n",
        "      <td> 7016.0</td>\n",
        "      <td> 7012.0</td>\n",
        "      <td> 144</td>\n",
        "      <td> 152874</td>\n",
        "      <td> 0</td>\n",
        "      <td> 0</td>\n",
        "      <td> 6873</td>\n",
        "      <td> 6027</td>\n",
        "    </tr>\n",
        "    <tr>\n",
        "      <th>1</th>\n",
        "      <td> Z</td>\n",
        "      <td>2015-09-25</td>\n",
        "      <td> 6925.5</td>\n",
        "      <td> 6966.5</td>\n",
        "      <td> 6924.0</td>\n",
        "      <td> 6963.5</td>\n",
        "      <td> 6959.5</td>\n",
        "      <td> 144</td>\n",
        "      <td>     10</td>\n",
        "      <td> 0</td>\n",
        "      <td> 0</td>\n",
        "      <td>    0</td>\n",
        "      <td>    3</td>\n",
        "    </tr>\n",
        "    <tr>\n",
        "      <th>2</th>\n",
        "      <td> Z</td>\n",
        "      <td>2015-12-25</td>\n",
        "      <td> 6890.5</td>\n",
        "      <td> 6890.5</td>\n",
        "      <td> 6890.5</td>\n",
        "      <td> 6935.5</td>\n",
        "      <td> 6931.5</td>\n",
        "      <td> 144</td>\n",
        "      <td>      2</td>\n",
        "      <td> 0</td>\n",
        "      <td> 0</td>\n",
        "      <td>    0</td>\n",
        "      <td>    0</td>\n",
        "    </tr>\n",
        "    <tr>\n",
        "      <th>3</th>\n",
        "      <td> Z</td>\n",
        "      <td>2016-03-25</td>\n",
        "      <td>    NaN</td>\n",
        "      <td>    NaN</td>\n",
        "      <td>    NaN</td>\n",
        "      <td>    NaN</td>\n",
        "      <td> 6879.0</td>\n",
        "      <td> 144</td>\n",
        "      <td>      0</td>\n",
        "      <td> 0</td>\n",
        "      <td> 0</td>\n",
        "      <td>    0</td>\n",
        "      <td>    0</td>\n",
        "    </tr>\n",
        "  </tbody>\n",
        "</table>\n",
        "<p>4 rows \u00d7 13 columns</p>\n",
        "</div>"
       ],
       "metadata": {},
       "output_type": "pyout",
       "prompt_number": 3,
       "text": [
        "  COMMODITYNAME CONTRACTMONTH    OPEN    HIGH     LOW   CLOSE   PRICE  CHANGE  \\\n",
        "0             Z    2015-06-26  6940.0  7033.0  6938.0  7016.0  7012.0     144   \n",
        "1             Z    2015-09-25  6925.5  6966.5  6924.0  6963.5  6959.5     144   \n",
        "2             Z    2015-12-25  6890.5  6890.5  6890.5  6935.5  6931.5     144   \n",
        "3             Z    2016-03-25     NaN     NaN     NaN     NaN  6879.0     144   \n",
        "\n",
        "   TOTALVOLUME  EFP  EFS  BLOCKVOLUME  SPREADVOLUME  \n",
        "0       152874    0    0         6873          6027  \n",
        "1           10    0    0            0             3  \n",
        "2            2    0    0            0             0  \n",
        "3            0    0    0            0             0  \n",
        "\n",
        "[4 rows x 13 columns]"
       ]
      }
     ],
     "prompt_number": 3
    },
    {
     "cell_type": "code",
     "collapsed": false,
     "input": [
      "options[0:5]"
     ],
     "language": "python",
     "metadata": {},
     "outputs": [
      {
       "html": [
        "<div style=\"max-height:1000px;max-width:1500px;overflow:auto;\">\n",
        "<table border=\"1\" class=\"dataframe\">\n",
        "  <thead>\n",
        "    <tr style=\"text-align: right;\">\n",
        "      <th></th>\n",
        "      <th>COMMODITYNAME</th>\n",
        "      <th>MONTH</th>\n",
        "      <th>STRIKE</th>\n",
        "      <th>PC</th>\n",
        "      <th>DELTA</th>\n",
        "      <th>OPEN</th>\n",
        "      <th>HIGH</th>\n",
        "      <th>LOW</th>\n",
        "      <th>CLOSE</th>\n",
        "      <th>PRICE</th>\n",
        "      <th>CHANGE</th>\n",
        "      <th>TOTALVOLUME</th>\n",
        "      <th>BLOCKVOLUME</th>\n",
        "      <th>EOO</th>\n",
        "      <th>SPREADVOLUME</th>\n",
        "    </tr>\n",
        "  </thead>\n",
        "  <tbody>\n",
        "    <tr>\n",
        "      <th>0</th>\n",
        "      <td> ESX</td>\n",
        "      <td>2015-05-22</td>\n",
        "      <td> 6100</td>\n",
        "      <td> C</td>\n",
        "      <td> 0.9984</td>\n",
        "      <td> NaN</td>\n",
        "      <td> NaN</td>\n",
        "      <td> NaN</td>\n",
        "      <td> NaN</td>\n",
        "      <td> 931.0</td>\n",
        "      <td> 146.5</td>\n",
        "      <td>   21</td>\n",
        "      <td>    0</td>\n",
        "      <td> 0</td>\n",
        "      <td>   21</td>\n",
        "    </tr>\n",
        "    <tr>\n",
        "      <th>1</th>\n",
        "      <td> ESX</td>\n",
        "      <td>2015-05-22</td>\n",
        "      <td> 6200</td>\n",
        "      <td> C</td>\n",
        "      <td> 0.9973</td>\n",
        "      <td> NaN</td>\n",
        "      <td> NaN</td>\n",
        "      <td> NaN</td>\n",
        "      <td> NaN</td>\n",
        "      <td> 831.0</td>\n",
        "      <td> 146.0</td>\n",
        "      <td>    3</td>\n",
        "      <td>    0</td>\n",
        "      <td> 0</td>\n",
        "      <td>    3</td>\n",
        "    </tr>\n",
        "    <tr>\n",
        "      <th>2</th>\n",
        "      <td> ESX</td>\n",
        "      <td>2015-05-22</td>\n",
        "      <td> 6650</td>\n",
        "      <td> C</td>\n",
        "      <td> 0.9832</td>\n",
        "      <td> NaN</td>\n",
        "      <td> NaN</td>\n",
        "      <td> NaN</td>\n",
        "      <td> NaN</td>\n",
        "      <td> 382.0</td>\n",
        "      <td> 131.0</td>\n",
        "      <td>    4</td>\n",
        "      <td>    0</td>\n",
        "      <td> 0</td>\n",
        "      <td>    4</td>\n",
        "    </tr>\n",
        "    <tr>\n",
        "      <th>3</th>\n",
        "      <td> ESX</td>\n",
        "      <td>2015-05-22</td>\n",
        "      <td> 6700</td>\n",
        "      <td> C</td>\n",
        "      <td> 0.9759</td>\n",
        "      <td> 313</td>\n",
        "      <td> 313</td>\n",
        "      <td> 313</td>\n",
        "      <td> 313</td>\n",
        "      <td> 332.5</td>\n",
        "      <td> 124.5</td>\n",
        "      <td>    7</td>\n",
        "      <td>    0</td>\n",
        "      <td> 0</td>\n",
        "      <td>    2</td>\n",
        "    </tr>\n",
        "    <tr>\n",
        "      <th>4</th>\n",
        "      <td> ESX</td>\n",
        "      <td>2015-05-22</td>\n",
        "      <td> 6850</td>\n",
        "      <td> C</td>\n",
        "      <td> 0.9073</td>\n",
        "      <td> NaN</td>\n",
        "      <td> NaN</td>\n",
        "      <td> NaN</td>\n",
        "      <td> NaN</td>\n",
        "      <td> 187.0</td>\n",
        "      <td>  89.5</td>\n",
        "      <td> 1500</td>\n",
        "      <td> 1500</td>\n",
        "      <td> 0</td>\n",
        "      <td> 1500</td>\n",
        "    </tr>\n",
        "  </tbody>\n",
        "</table>\n",
        "<p>5 rows \u00d7 15 columns</p>\n",
        "</div>"
       ],
       "metadata": {},
       "output_type": "pyout",
       "prompt_number": 4,
       "text": [
        "  COMMODITYNAME      MONTH  STRIKE PC   DELTA  OPEN  HIGH  LOW  CLOSE  PRICE  \\\n",
        "0           ESX 2015-05-22    6100  C  0.9984   NaN   NaN  NaN    NaN  931.0   \n",
        "1           ESX 2015-05-22    6200  C  0.9973   NaN   NaN  NaN    NaN  831.0   \n",
        "2           ESX 2015-05-22    6650  C  0.9832   NaN   NaN  NaN    NaN  382.0   \n",
        "3           ESX 2015-05-22    6700  C  0.9759   313   313  313    313  332.5   \n",
        "4           ESX 2015-05-22    6850  C  0.9073   NaN   NaN  NaN    NaN  187.0   \n",
        "\n",
        "   CHANGE  TOTALVOLUME  BLOCKVOLUME  EOO  SPREADVOLUME  \n",
        "0   146.5           21            0    0            21  \n",
        "1   146.0            3            0    0             3  \n",
        "2   131.0            4            0    0             4  \n",
        "3   124.5            7            0    0             2  \n",
        "4    89.5         1500         1500    0          1500  \n",
        "\n",
        "[5 rows x 15 columns]"
       ]
      }
     ],
     "prompt_number": 4
    },
    {
     "cell_type": "markdown",
     "metadata": {},
     "source": [
      "Use a flat yield curve for simplicity"
     ]
    },
    {
     "cell_type": "code",
     "collapsed": false,
     "input": [
      "def risk_free_rate(date):\n",
      "    return 0.01"
     ],
     "language": "python",
     "metadata": {},
     "outputs": [],
     "prompt_number": 5
    },
    {
     "cell_type": "code",
     "collapsed": false,
     "input": [
      "def forward_curve(date):\n",
      "    if date <= pd.to_datetime('2015-06-26'): return 7012.0 \n",
      "    if date <= pd.to_datetime('2015-09-25'): return 6959.5 \n",
      "    if date <= pd.to_datetime('2015-12-25'): return 6931.5 \n",
      "    return 6879.0\n",
      "forward_curve(pd.to_datetime('2015-12-27'))"
     ],
     "language": "python",
     "metadata": {},
     "outputs": [
      {
       "metadata": {},
       "output_type": "pyout",
       "prompt_number": 6,
       "text": [
        "6879.0"
       ]
      }
     ],
     "prompt_number": 6
    },
    {
     "cell_type": "code",
     "collapsed": false,
     "input": [
      "from vollib.black import implied_volatility\n",
      "def calc_iv(row):\n",
      "    years = (row.MONTH - today).days / 365.0\n",
      "    return implied_volatility.implied_volatility_of_discounted_option_price(\n",
      "        row.PRICE,\n",
      "        forward_curve(row.MONTH),\n",
      "        row.STRIKE,\n",
      "        risk_free_rate(row.MONTH),\n",
      "        years,\n",
      "        row.PC.lower())\n",
      "implied_vols = pd.DataFrame(options.apply(calc_iv, axis=1), columns=['IMPLIEDVOL'])\n",
      "options = pd.concat([options,implied_vols], axis=1)"
     ],
     "language": "python",
     "metadata": {},
     "outputs": [],
     "prompt_number": 7
    },
    {
     "cell_type": "code",
     "collapsed": false,
     "input": [
      "t = pd.to_datetime('2015-05-22')\n",
      "T = (t - today).days / 365.25\n",
      "\n",
      "curve = options[(options.MONTH == t) & (options.PC == 'C') & (options.IMPLIEDVOL > 0)]\n",
      "xs = np.log(curve.STRIKE / curve.MONTH.map(np.vectorize(forward_curve)))\n",
      "vT = curve.IMPLIEDVOL * curve.IMPLIEDVOL * T"
     ],
     "language": "python",
     "metadata": {},
     "outputs": [],
     "prompt_number": 8
    },
    {
     "cell_type": "code",
     "collapsed": false,
     "input": [
      "data = [ [ 1000., 91.90934689 ], [ 1200., 78.35167286 ], [ 1400., 66.91300713 ], [ 1600., 60.31822374 ],\n",
      "[ 1800., 55.62485748 ], [ 2000., 50.82906804 ], [ 2100., 48.48733938 ], [ 2200., 46.95318283 ], [ 2250., 45.80432482 ], [ 2300., 44.30567303 ], [ 2350., 43.06379848 ], [ 2400., 42.24679733 ], [ 2450., 41.64913518 ], [ 2500., 40.03246326 ], [ 2550., 38.7976168 ], [ 2600., 38.1902077 ],\n",
      "[ 2650., 37.0658179 ], [ 2700., 35.80421072 ], [ 2750., 35.5361623 ], [ 2800., 34.41713068 ],\n",
      "[ 2850., 33.88505641 ], [ 2900., 33.25353346 ], [ 2950., 32.2145758 ], [ 3000., 31.38398186 ], [ 3050., 30.78696344 ], [ 3100., 29.90882832 ], [ 3150., 29.42137707 ], [ 3200., 28.51799403 ], [ 3250., 28.1346747 ], [ 3300., 27.3492621 ], [ 3350., 27.1945772 ], [ 3400., 26.33625863 ],\n",
      "[ 3450., 26.13504918 ], [ 3500., 25.46419359 ], [ 3550., 25.13236192 ], [ 3600., 24.67427843 ], [ 3650., 24.5078563 ], [ 3700., 24.06276457 ], [ 3800., 23.55074498 ], [ 3900., 23.53770316 ], [ 4000., 24.05267137 ], [ 4100., 24.82280142 ], [ 4200., 25.07322512 ], [ 4300., 25.53910103 ], [ 4400., 26.52966927 ], [ 4500., 26.98236138 ], [ 4600., 27.66464918 ], [ 4800., 29.14842886 ], [ 5000., 32.05231864 ], [ 5200., 34.81788107 ], [ 5400., 37.45710829 ] ]\n",
      "_T = 58.70834 / 365.25\n",
      "_f = 3317.880454\n",
      "_vT = pd.Series([(x[1]/100) * (x[1]/100) * _T for x in data])\n",
      "_x = pd.Series([np.log(x[0] / _f) for x in data])\n",
      "#_x = pd.Series([x[0] for x in data])\n",
      "pd.DataFrame(data, columns=['STRIKE', 'VOL']).plot(x='STRIKE', y='VOL')"
     ],
     "language": "python",
     "metadata": {},
     "outputs": [
      {
       "metadata": {},
       "output_type": "pyout",
       "prompt_number": 16,
       "text": [
        "<matplotlib.axes.AxesSubplot at 0x10ce5f410>"
       ]
      },
      {
       "metadata": {},
       "output_type": "display_data",
       "png": "[encoded data removed]",
       "text": [
        "<matplotlib.figure.Figure at 0x10ce5dcd0>"
       ]
      }
     ],
     "prompt_number": 16
    },
    {
     "cell_type": "code",
     "collapsed": false,
     "input": [
      "def acceptable(S, _a, _d, _c, _vT):\n",
      "    return 0 <= _c and _c <= 4 * S and abs(_d) <= min(_c, 4 * S - _c) and 0 <= _a and _a <= _vT.max()\n",
      "\n",
      "def cost(A, B, P, _x, M, S, _vT, _T):\n",
      "    _v = A + B * (P * (_x - M) + sqrt((_x - M) * (_x - M) + S * S))\n",
      "    diff = _v - (_vT / _T)\n",
      "    return (diff * diff).sum()\n",
      "\n",
      "def solve_grad((S, M), _x, _vT, _T):\n",
      "    ys = (_x - M) / S\n",
      "    \n",
      "    y = ys.sum()\n",
      "    y2 = (ys * ys).sum()\n",
      "    y2one = (ys * ys + 1).sum()\n",
      "    ysqrt = sqrt(ys * ys + 1).sum()\n",
      "    y2sqrt = (ys * sqrt(ys * ys + 1)).sum()\n",
      "    v = _vT.sum()\n",
      "    vy = (_vT * ys).sum()\n",
      "    vsqrt = (_vT * sqrt(ys * ys + 1)).sum()\n",
      "\n",
      "    pm = np.array([\n",
      "        [1, y, ysqrt],\n",
      "        [y, y2, y2sqrt],\n",
      "        [ysqrt, y2sqrt, y2one]\n",
      "    ])\n",
      "    pv = np.array([v, vy, vsqrt])\n",
      "    _a, _d, _c = np.linalg.solve(pm, pv)\n",
      "\n",
      "#    out['B'] = B = _c / (S * _T)\n",
      "#    out['P'] = P = _d / (B * S * _T)\n",
      "#    out['A'] = _a / _T\n",
      "    \n",
      "    if acceptable(S, _a, _d, _c, _vT):\n",
      "        return cost(A, B, P, _x, M, S, _vT, _T)\n",
      "\n",
      "        \n",
      "                   [[[1.;0.;0.];[wy; wy2; wysqr]; [wsqr; wysqr; w + wy2]],  [0.; wvy; wvsqr];       // system for a = 0\n",
      "                    [[1.;0.;0.];[wy; wy2; wysqr]; [wsqr; wysqr; w + wy2]],  [maxvar; wvy; wvsqr];   // system for a = maxvar\n",
      "                    [[w;wy;wsqr]; [0.;-1.;1.]; [wsqr; wysqr; w + wy2]],     [wv; 0.; wvsqr];        // system for d = c\n",
      "                    [[w;wy;wsqr]; [0.; 1.;1.]; [wsqr; wysqr; w + wy2]],     [wv; 0.; wvsqr];        // system for d = -c\n",
      "                    [[w;wy;wsqr]; [0.; 1.;1.]; [wsqr; wysqr; w + wy2]],     [wv; 4.*s; wvsqr];      // system part one for |d| <= 4*s-c\n",
      "                    [[w;wy;wsqr]; [0.;-1.;1.]; [wsqr; wysqr; w + wy2]],     [wv; 4.*s; wvsqr];      // system part two for |d| <= 4*s-c\n",
      "                    [[w;wy;wsqr]; [wy; wy2; wysqr]; [0.;0.;1.]],            [wv; wvy; 0.];          // system for c = 0\n",
      "                    [[w;wy;wsqr]; [wy; wy2; wysqr]; [0.;0.;1.]],            [wv; wvy; 4.*s]]        // system for c = 4*s\n",
      "\n",
      "    \n",
      "solve_grad((.1, .0), _x, _vT, _T)"
     ],
     "language": "python",
     "metadata": {},
     "outputs": [],
     "prompt_number": 44
    },
    {
     "cell_type": "code",
     "collapsed": false,
     "input": [
      "from scipy import optimize\n",
      "res = optimize.minimize(solve_grad, [.1, .0], args=[_x, _vT, _T], bounds=[(0, None), (None, None)])\n",
      "if not res.success:\n",
      "    raise Exception('failed to solve:\\n' + str(res))\n",
      "S, M = res.x\n",
      "A, P, B = solve_grad((S, M), _x, _vT, _T, True)\n",
      "if _T < 0 or S < 0 or abs(P) > 1:\n",
      "    raise Exception(\"A=%f P=%f B=%f S=%f M=%f fails sanity check\" % (A, P, B, S, M))\n",
      "A, P, B, S, M, _T, res"
     ],
     "language": "python",
     "metadata": {},
     "outputs": [
      {
       "metadata": {},
       "output_type": "pyout",
       "prompt_number": 40,
       "text": [
        "(0.012118440485279658,\n",
        " -0.32684917933920249,\n",
        " 0.43718414361857921,\n",
        " 0.10000000000000001,\n",
        " 0.0,\n",
        " 0.16073467488021903,\n",
        "   status: 0\n",
        " success: True\n",
        "    nfev: 4\n",
        "     fun: 0\n",
        "       x: array([ 0.1,  0. ])\n",
        " message: 'CONVERGENCE: NORM_OF_PROJECTED_GRADIENT_<=_PGTOL'\n",
        "     jac: array([ 0.,  0.])\n",
        "     nit: 0)"
       ]
      }
     ],
     "prompt_number": 40
    },
    {
     "cell_type": "code",
     "collapsed": false,
     "input": [
      "from functools import partial\n",
      "def svi(S, M, A, P, B, x):\n",
      "    xM = x - M\n",
      "    return A + B * (P * xM + sqrt(xM * xM + S * S))\n",
      "svi2 = partial(svi, S, M, A, P, B)"
     ],
     "language": "python",
     "metadata": {},
     "outputs": [],
     "prompt_number": 41
    },
    {
     "cell_type": "code",
     "collapsed": false,
     "input": [
      "calced = [[x[0], x[1]/100,svi(S, M, A, P, B, np.log(x[0] / _f))] for x in data]\n",
      "pd.DataFrame(calced, columns=['STRIKE', 'VOL', 'CALCED']).plot(x='STRIKE', y=['VOL','CALCED'])"
     ],
     "language": "python",
     "metadata": {},
     "outputs": [
      {
       "metadata": {},
       "output_type": "pyout",
       "prompt_number": 42,
       "text": [
        "<matplotlib.axes.AxesSubplot at 0x10d679d90>"
       ]
      },
      {
       "metadata": {},
       "output_type": "display_data",
       "png": "[encoded data removed]",
       "text": [
        "<matplotlib.figure.Figure at 0x10d6d6950>"
       ]
      }
     ],
     "prompt_number": 42
    },
    {
     "cell_type": "code",
     "collapsed": false,
     "input": [
      "o = options[(options.MONTH == t) & (options.PC == 'C') & (options.IMPLIEDVOL > 0)]\n",
      "\n",
      "def calculated_vol(row):\n",
      "    return svi2(np.log(row.STRIKE / forward_curve(row.MONTH)))\n",
      "oc = pd.DataFrame(o.apply(calculated_vol, axis=1), columns=['CALCULATEDVOL'])\n",
      "o = pd.concat([o, oc], axis=1)\n",
      "o.plot(x='STRIKE', y=['CALCULATEDVOL'])"
     ],
     "language": "python",
     "metadata": {},
     "outputs": [
      {
       "ename": "ValueError",
       "evalue": "cannot reindex from a duplicate axis",
       "output_type": "pyerr",
       "traceback": [
        "\u001b[0;31m---------------------------------------------------------------------------\u001b[0m\n\u001b[0;31mValueError\u001b[0m                                Traceback (most recent call last)",
        "\u001b[0;32m<ipython-input-698-467270932c0c>\u001b[0m in \u001b[0;36m<module>\u001b[0;34m()\u001b[0m\n\u001b[0;32m----> 1\u001b[0;31m \u001b[0mo\u001b[0m \u001b[0;34m=\u001b[0m \u001b[0moptions\u001b[0m\u001b[0;34m[\u001b[0m\u001b[0;34m(\u001b[0m\u001b[0moptions\u001b[0m\u001b[0;34m.\u001b[0m\u001b[0mMONTH\u001b[0m \u001b[0;34m==\u001b[0m \u001b[0mt\u001b[0m\u001b[0;34m)\u001b[0m \u001b[0;34m&\u001b[0m \u001b[0;34m(\u001b[0m\u001b[0moptions\u001b[0m\u001b[0;34m.\u001b[0m\u001b[0mPC\u001b[0m \u001b[0;34m==\u001b[0m \u001b[0;34m'C'\u001b[0m\u001b[0;34m)\u001b[0m \u001b[0;34m&\u001b[0m \u001b[0;34m(\u001b[0m\u001b[0moptions\u001b[0m\u001b[0;34m.\u001b[0m\u001b[0mIMPLIEDVOL\u001b[0m \u001b[0;34m>\u001b[0m \u001b[0;36m0\u001b[0m\u001b[0;34m)\u001b[0m\u001b[0;34m]\u001b[0m\u001b[0;34m\u001b[0m\u001b[0m\n\u001b[0m\u001b[1;32m      2\u001b[0m \u001b[0;34m\u001b[0m\u001b[0m\n\u001b[1;32m      3\u001b[0m \u001b[0;32mdef\u001b[0m \u001b[0mcalculated_vol\u001b[0m\u001b[0;34m(\u001b[0m\u001b[0mrow\u001b[0m\u001b[0;34m)\u001b[0m\u001b[0;34m:\u001b[0m\u001b[0;34m\u001b[0m\u001b[0m\n\u001b[1;32m      4\u001b[0m     \u001b[0;32mreturn\u001b[0m \u001b[0msvi\u001b[0m\u001b[0;34m(\u001b[0m\u001b[0mS\u001b[0m\u001b[0;34m,\u001b[0m \u001b[0mM\u001b[0m\u001b[0;34m,\u001b[0m \u001b[0mA\u001b[0m\u001b[0;34m,\u001b[0m \u001b[0mP\u001b[0m\u001b[0;34m,\u001b[0m \u001b[0mB\u001b[0m\u001b[0;34m,\u001b[0m \u001b[0mlog\u001b[0m\u001b[0;34m(\u001b[0m\u001b[0mrow\u001b[0m\u001b[0;34m.\u001b[0m\u001b[0mSTRIKE\u001b[0m \u001b[0;34m/\u001b[0m \u001b[0mforward_curve\u001b[0m\u001b[0;34m(\u001b[0m\u001b[0mrow\u001b[0m\u001b[0;34m.\u001b[0m\u001b[0mMONTH\u001b[0m\u001b[0;34m)\u001b[0m\u001b[0;34m)\u001b[0m\u001b[0;34m)\u001b[0m\u001b[0;34m\u001b[0m\u001b[0m\n\u001b[1;32m      5\u001b[0m \u001b[0moc\u001b[0m \u001b[0;34m=\u001b[0m \u001b[0mpd\u001b[0m\u001b[0;34m.\u001b[0m\u001b[0mDataFrame\u001b[0m\u001b[0;34m(\u001b[0m\u001b[0mo\u001b[0m\u001b[0;34m.\u001b[0m\u001b[0mapply\u001b[0m\u001b[0;34m(\u001b[0m\u001b[0mcalculated_vol\u001b[0m\u001b[0;34m,\u001b[0m \u001b[0maxis\u001b[0m\u001b[0;34m=\u001b[0m\u001b[0;36m1\u001b[0m\u001b[0;34m)\u001b[0m\u001b[0;34m,\u001b[0m \u001b[0mcolumns\u001b[0m\u001b[0;34m=\u001b[0m\u001b[0;34m[\u001b[0m\u001b[0;34m'CALCULATEDVOL'\u001b[0m\u001b[0;34m]\u001b[0m\u001b[0;34m)\u001b[0m\u001b[0;34m\u001b[0m\u001b[0m\n",
        "\u001b[0;32m/usr/local/lib/python2.7/site-packages/pandas/core/ops.pyc\u001b[0m in \u001b[0;36mf\u001b[0;34m(self, other, axis, level, fill_value)\u001b[0m\n\u001b[1;32m    760\u001b[0m             \u001b[0;32mreturn\u001b[0m \u001b[0mself\u001b[0m\u001b[0;34m.\u001b[0m\u001b[0m_combine_frame\u001b[0m\u001b[0;34m(\u001b[0m\u001b[0mother\u001b[0m\u001b[0;34m,\u001b[0m \u001b[0mna_op\u001b[0m\u001b[0;34m,\u001b[0m \u001b[0mfill_value\u001b[0m\u001b[0;34m,\u001b[0m \u001b[0mlevel\u001b[0m\u001b[0;34m)\u001b[0m\u001b[0;34m\u001b[0m\u001b[0m\n\u001b[1;32m    761\u001b[0m         \u001b[0;32melif\u001b[0m \u001b[0misinstance\u001b[0m\u001b[0;34m(\u001b[0m\u001b[0mother\u001b[0m\u001b[0;34m,\u001b[0m \u001b[0mpd\u001b[0m\u001b[0;34m.\u001b[0m\u001b[0mSeries\u001b[0m\u001b[0;34m)\u001b[0m\u001b[0;34m:\u001b[0m\u001b[0;34m\u001b[0m\u001b[0m\n\u001b[0;32m--> 762\u001b[0;31m             \u001b[0;32mreturn\u001b[0m \u001b[0mself\u001b[0m\u001b[0;34m.\u001b[0m\u001b[0m_combine_series\u001b[0m\u001b[0;34m(\u001b[0m\u001b[0mother\u001b[0m\u001b[0;34m,\u001b[0m \u001b[0mna_op\u001b[0m\u001b[0;34m,\u001b[0m \u001b[0mfill_value\u001b[0m\u001b[0;34m,\u001b[0m \u001b[0maxis\u001b[0m\u001b[0;34m,\u001b[0m \u001b[0mlevel\u001b[0m\u001b[0;34m)\u001b[0m\u001b[0;34m\u001b[0m\u001b[0m\n\u001b[0m\u001b[1;32m    763\u001b[0m         \u001b[0;32melif\u001b[0m \u001b[0misinstance\u001b[0m\u001b[0;34m(\u001b[0m\u001b[0mother\u001b[0m\u001b[0;34m,\u001b[0m \u001b[0;34m(\u001b[0m\u001b[0mlist\u001b[0m\u001b[0;34m,\u001b[0m \u001b[0mtuple\u001b[0m\u001b[0;34m)\u001b[0m\u001b[0;34m)\u001b[0m\u001b[0;34m:\u001b[0m\u001b[0;34m\u001b[0m\u001b[0m\n\u001b[1;32m    764\u001b[0m             \u001b[0;32mif\u001b[0m \u001b[0maxis\u001b[0m \u001b[0;32mis\u001b[0m \u001b[0;32mnot\u001b[0m \u001b[0mNone\u001b[0m \u001b[0;32mand\u001b[0m \u001b[0mself\u001b[0m\u001b[0;34m.\u001b[0m\u001b[0m_get_axis_name\u001b[0m\u001b[0;34m(\u001b[0m\u001b[0maxis\u001b[0m\u001b[0;34m)\u001b[0m \u001b[0;34m==\u001b[0m \u001b[0;34m'index'\u001b[0m\u001b[0;34m:\u001b[0m\u001b[0;34m\u001b[0m\u001b[0m\n",
        "\u001b[0;32m/usr/local/lib/python2.7/site-packages/pandas/core/frame.pyc\u001b[0m in \u001b[0;36m_combine_series\u001b[0;34m(self, other, func, fill_value, axis, level)\u001b[0m\n\u001b[1;32m   2787\u001b[0m                 \u001b[0;32mreturn\u001b[0m \u001b[0mself\u001b[0m\u001b[0;34m.\u001b[0m\u001b[0m_combine_match_index\u001b[0m\u001b[0;34m(\u001b[0m\u001b[0mother\u001b[0m\u001b[0;34m,\u001b[0m \u001b[0mfunc\u001b[0m\u001b[0;34m,\u001b[0m \u001b[0mfill_value\u001b[0m\u001b[0;34m)\u001b[0m\u001b[0;34m\u001b[0m\u001b[0m\n\u001b[1;32m   2788\u001b[0m             \u001b[0;32melse\u001b[0m\u001b[0;34m:\u001b[0m\u001b[0;34m\u001b[0m\u001b[0m\n\u001b[0;32m-> 2789\u001b[0;31m                 \u001b[0;32mreturn\u001b[0m \u001b[0mself\u001b[0m\u001b[0;34m.\u001b[0m\u001b[0m_combine_match_columns\u001b[0m\u001b[0;34m(\u001b[0m\u001b[0mother\u001b[0m\u001b[0;34m,\u001b[0m \u001b[0mfunc\u001b[0m\u001b[0;34m,\u001b[0m \u001b[0mfill_value\u001b[0m\u001b[0;34m)\u001b[0m\u001b[0;34m\u001b[0m\u001b[0m\n\u001b[0m\u001b[1;32m   2790\u001b[0m         \u001b[0;32mreturn\u001b[0m \u001b[0mself\u001b[0m\u001b[0;34m.\u001b[0m\u001b[0m_combine_series_infer\u001b[0m\u001b[0;34m(\u001b[0m\u001b[0mother\u001b[0m\u001b[0;34m,\u001b[0m \u001b[0mfunc\u001b[0m\u001b[0;34m,\u001b[0m \u001b[0mfill_value\u001b[0m\u001b[0;34m)\u001b[0m\u001b[0;34m\u001b[0m\u001b[0m\n\u001b[1;32m   2791\u001b[0m \u001b[0;34m\u001b[0m\u001b[0m\n",
        "\u001b[0;32m/usr/local/lib/python2.7/site-packages/pandas/core/frame.pyc\u001b[0m in \u001b[0;36m_combine_match_columns\u001b[0;34m(self, other, func, fill_value)\u001b[0m\n\u001b[1;32m   2820\u001b[0m \u001b[0;34m\u001b[0m\u001b[0m\n\u001b[1;32m   2821\u001b[0m     \u001b[0;32mdef\u001b[0m \u001b[0m_combine_match_columns\u001b[0m\u001b[0;34m(\u001b[0m\u001b[0mself\u001b[0m\u001b[0;34m,\u001b[0m \u001b[0mother\u001b[0m\u001b[0;34m,\u001b[0m \u001b[0mfunc\u001b[0m\u001b[0;34m,\u001b[0m \u001b[0mfill_value\u001b[0m\u001b[0;34m=\u001b[0m\u001b[0mNone\u001b[0m\u001b[0;34m)\u001b[0m\u001b[0;34m:\u001b[0m\u001b[0;34m\u001b[0m\u001b[0m\n\u001b[0;32m-> 2822\u001b[0;31m         \u001b[0mleft\u001b[0m\u001b[0;34m,\u001b[0m \u001b[0mright\u001b[0m \u001b[0;34m=\u001b[0m \u001b[0mself\u001b[0m\u001b[0;34m.\u001b[0m\u001b[0malign\u001b[0m\u001b[0;34m(\u001b[0m\u001b[0mother\u001b[0m\u001b[0;34m,\u001b[0m \u001b[0mjoin\u001b[0m\u001b[0;34m=\u001b[0m\u001b[0;34m'outer'\u001b[0m\u001b[0;34m,\u001b[0m \u001b[0maxis\u001b[0m\u001b[0;34m=\u001b[0m\u001b[0;36m1\u001b[0m\u001b[0;34m,\u001b[0m \u001b[0mcopy\u001b[0m\u001b[0;34m=\u001b[0m\u001b[0mFalse\u001b[0m\u001b[0;34m)\u001b[0m\u001b[0;34m\u001b[0m\u001b[0m\n\u001b[0m\u001b[1;32m   2823\u001b[0m         \u001b[0;32mif\u001b[0m \u001b[0mfill_value\u001b[0m \u001b[0;32mis\u001b[0m \u001b[0;32mnot\u001b[0m \u001b[0mNone\u001b[0m\u001b[0;34m:\u001b[0m\u001b[0;34m\u001b[0m\u001b[0m\n\u001b[1;32m   2824\u001b[0m             raise NotImplementedError(\"fill_value %r not supported\" %\n",
        "\u001b[0;32m/usr/local/lib/python2.7/site-packages/pandas/core/generic.pyc\u001b[0m in \u001b[0;36malign\u001b[0;34m(self, other, join, axis, level, copy, fill_value, method, limit, fill_axis)\u001b[0m\n\u001b[1;32m   2888\u001b[0m                                       \u001b[0mcopy\u001b[0m\u001b[0;34m=\u001b[0m\u001b[0mcopy\u001b[0m\u001b[0;34m,\u001b[0m \u001b[0mfill_value\u001b[0m\u001b[0;34m=\u001b[0m\u001b[0mfill_value\u001b[0m\u001b[0;34m,\u001b[0m\u001b[0;34m\u001b[0m\u001b[0m\n\u001b[1;32m   2889\u001b[0m                                       \u001b[0mmethod\u001b[0m\u001b[0;34m=\u001b[0m\u001b[0mmethod\u001b[0m\u001b[0;34m,\u001b[0m \u001b[0mlimit\u001b[0m\u001b[0;34m=\u001b[0m\u001b[0mlimit\u001b[0m\u001b[0;34m,\u001b[0m\u001b[0;34m\u001b[0m\u001b[0m\n\u001b[0;32m-> 2890\u001b[0;31m                                       fill_axis=fill_axis)\n\u001b[0m\u001b[1;32m   2891\u001b[0m         \u001b[0;32melse\u001b[0m\u001b[0;34m:\u001b[0m  \u001b[0;31m# pragma: no cover\u001b[0m\u001b[0;34m\u001b[0m\u001b[0m\n\u001b[1;32m   2892\u001b[0m             \u001b[0;32mraise\u001b[0m \u001b[0mTypeError\u001b[0m\u001b[0;34m(\u001b[0m\u001b[0;34m'unsupported type: %s'\u001b[0m \u001b[0;34m%\u001b[0m \u001b[0mtype\u001b[0m\u001b[0;34m(\u001b[0m\u001b[0mother\u001b[0m\u001b[0;34m)\u001b[0m\u001b[0;34m)\u001b[0m\u001b[0;34m\u001b[0m\u001b[0m\n",
        "\u001b[0;32m/usr/local/lib/python2.7/site-packages/pandas/core/generic.pyc\u001b[0m in \u001b[0;36m_align_series\u001b[0;34m(self, other, join, axis, level, copy, fill_value, method, limit, fill_axis)\u001b[0m\n\u001b[1;32m   2967\u001b[0m \u001b[0;34m\u001b[0m\u001b[0m\n\u001b[1;32m   2968\u001b[0m                 \u001b[0;32mif\u001b[0m \u001b[0mlidx\u001b[0m \u001b[0;32mis\u001b[0m \u001b[0;32mnot\u001b[0m \u001b[0mNone\u001b[0m\u001b[0;34m:\u001b[0m\u001b[0;34m\u001b[0m\u001b[0m\n\u001b[0;32m-> 2969\u001b[0;31m                     \u001b[0mfdata\u001b[0m \u001b[0;34m=\u001b[0m \u001b[0mfdata\u001b[0m\u001b[0;34m.\u001b[0m\u001b[0mreindex_indexer\u001b[0m\u001b[0;34m(\u001b[0m\u001b[0mjoin_index\u001b[0m\u001b[0;34m,\u001b[0m \u001b[0mlidx\u001b[0m\u001b[0;34m,\u001b[0m \u001b[0maxis\u001b[0m\u001b[0;34m=\u001b[0m\u001b[0;36m0\u001b[0m\u001b[0;34m)\u001b[0m\u001b[0;34m\u001b[0m\u001b[0m\n\u001b[0m\u001b[1;32m   2970\u001b[0m             \u001b[0;32melse\u001b[0m\u001b[0;34m:\u001b[0m\u001b[0;34m\u001b[0m\u001b[0m\n\u001b[1;32m   2971\u001b[0m                 \u001b[0;32mraise\u001b[0m \u001b[0mValueError\u001b[0m\u001b[0;34m(\u001b[0m\u001b[0;34m'Must specify axis=0 or 1'\u001b[0m\u001b[0;34m)\u001b[0m\u001b[0;34m\u001b[0m\u001b[0m\n",
        "\u001b[0;32m/usr/local/lib/python2.7/site-packages/pandas/core/internals.pyc\u001b[0m in \u001b[0;36mreindex_indexer\u001b[0;34m(self, new_axis, indexer, axis, fill_value, allow_dups)\u001b[0m\n\u001b[1;32m   3238\u001b[0m         \u001b[0;31m# trying to reindex on an axis with duplicates\u001b[0m\u001b[0;34m\u001b[0m\u001b[0;34m\u001b[0m\u001b[0m\n\u001b[1;32m   3239\u001b[0m         \u001b[0;32mif\u001b[0m \u001b[0;32mnot\u001b[0m \u001b[0mallow_dups\u001b[0m \u001b[0;32mand\u001b[0m \u001b[0;32mnot\u001b[0m \u001b[0mself\u001b[0m\u001b[0;34m.\u001b[0m\u001b[0maxes\u001b[0m\u001b[0;34m[\u001b[0m\u001b[0maxis\u001b[0m\u001b[0;34m]\u001b[0m\u001b[0;34m.\u001b[0m\u001b[0mis_unique\u001b[0m\u001b[0;34m:\u001b[0m\u001b[0;34m\u001b[0m\u001b[0m\n\u001b[0;32m-> 3240\u001b[0;31m             \u001b[0;32mraise\u001b[0m \u001b[0mValueError\u001b[0m\u001b[0;34m(\u001b[0m\u001b[0;34m\"cannot reindex from a duplicate axis\"\u001b[0m\u001b[0;34m)\u001b[0m\u001b[0;34m\u001b[0m\u001b[0m\n\u001b[0m\u001b[1;32m   3241\u001b[0m \u001b[0;34m\u001b[0m\u001b[0m\n\u001b[1;32m   3242\u001b[0m         \u001b[0;32mif\u001b[0m \u001b[0;32mnot\u001b[0m \u001b[0mself\u001b[0m\u001b[0;34m.\u001b[0m\u001b[0mis_consolidated\u001b[0m\u001b[0;34m(\u001b[0m\u001b[0;34m)\u001b[0m\u001b[0;34m:\u001b[0m\u001b[0;34m\u001b[0m\u001b[0m\n",
        "\u001b[0;31mValueError\u001b[0m: cannot reindex from a duplicate axis"
       ]
      }
     ],
     "prompt_number": 698
    },
    {
     "cell_type": "code",
     "collapsed": false,
     "input": [
      "min(1,2)"
     ],
     "language": "python",
     "metadata": {},
     "outputs": [
      {
       "metadata": {},
       "output_type": "pyout",
       "prompt_number": 43,
       "text": [
        "1"
       ]
      }
     ],
     "prompt_number": 43
    },
    {
     "cell_type": "code",
     "collapsed": false,
     "input": [],
     "language": "python",
     "metadata": {},
     "outputs": []
    }
   ],
   "metadata": {}
  }
 ]
}